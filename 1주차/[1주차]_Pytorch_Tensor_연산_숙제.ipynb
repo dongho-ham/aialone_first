{
  "nbformat": 4,
  "nbformat_minor": 0,
  "metadata": {
    "colab": {
      "provenance": []
    },
    "kernelspec": {
      "name": "python3",
      "display_name": "Python 3"
    },
    "language_info": {
      "name": "python"
    }
  },
  "cells": [
    {
      "cell_type": "markdown",
      "source": [
        "# Tensor 연습 문제 초급"
      ],
      "metadata": {
        "id": "OHDAOrfdS5p2"
      }
    },
    {
      "cell_type": "code",
      "source": [
        "import torch"
      ],
      "metadata": {
        "id": "NfDN5U4CGRuA"
      },
      "execution_count": 2,
      "outputs": []
    },
    {
      "cell_type": "code",
      "source": [
        "'''\n",
        "[1번] \n",
        "아래 세 리스트 a, b, c를 이용해 이를 pytorch의 float64 type의 tensor로 바꾸고 그것의 크기를 print해 보세요\n",
        "'''\n",
        "a = [8, 6, 1]\n",
        "b = [[1,7,4], [7,2,7]]\n",
        "c = [[[1,2,3], [4,5,1],[9,8,2]], [[10,6,5], [2,2,7],[6,6,1]]]\n",
        "\n",
        "# 아래에 풀이 적기 \n",
        "# tensor로 변환하기\n",
        "a_tensor = torch.tensor(a)\n",
        "b_tensor = torch.tensor(b)\n",
        "c_tensor = torch.tensor(c)\n",
        "\n",
        "a_tensor = a_tensor.type(torch.float64)\n",
        "b_tensor = b_tensor.type(torch.float64)\n",
        "c_tensor = c_tensor.type(torch.float64)\n",
        "\n",
        "print('a_tensor의 type:', a_tensor.dtype)\n",
        "print('a_tensor의 type:', b_tensor.dtype)\n",
        "print('a_tensor의 type:', c_tensor.dtype)"
      ],
      "metadata": {
        "id": "_85xqNBW_7aD"
      },
      "execution_count": null,
      "outputs": []
    },
    {
      "cell_type": "code",
      "execution_count": null,
      "metadata": {
        "id": "eICnl-CKSzAy"
      },
      "outputs": [],
      "source": [
        "'''\n",
        "[2번] \n",
        "아래 두 tensor a와 b의 합을 구하고 그 결과를 출력하세요 \n",
        "'''\n",
        "\n",
        "a = torch.tensor([1, 2, 3])\n",
        "b = torch.tensor([4, 5, 6])\n",
        "\n",
        "# 아래에 풀이 적기 \n",
        "print(a+b)"
      ]
    },
    {
      "cell_type": "code",
      "source": [
        "'''\n",
        "[3번] \n",
        "아래 tensor의 최솟값과 최댓값을 출력해세요 \n",
        "'''\n",
        "a = torch.tensor([2, 4, 1, 7, 5])\n",
        "\n",
        "# 아래에 풀이 적기 \n",
        "print('최솟값: ',torch.min(a).item())\n",
        "print('최댓값: ',torch.max(a).item())"
      ],
      "metadata": {
        "id": "2lweMCOqTw2D"
      },
      "execution_count": null,
      "outputs": []
    },
    {
      "cell_type": "code",
      "source": [
        "'''\n",
        "[4번] \n",
        "모든 값이 0으로 채워진 3 x 4 tensor a를 만드세요 \n",
        "'''\n",
        "\n",
        "# 아래에 풀이 적기 \n",
        "a = torch.zeros((3,4))\n",
        "print(a)"
      ],
      "metadata": {
        "id": "Ng8lVgQKT0zZ"
      },
      "execution_count": null,
      "outputs": []
    },
    {
      "cell_type": "code",
      "source": [
        "'''\n",
        "[5번] \n",
        "3 이상 10 이하의 정수로 이루어진 3 x 4 크기의 tensor a를 만드세요 \n",
        "'''\n",
        "\n",
        "# 아래에 풀이 적기 \n",
        "a = torch.randint(3, 10, (3,4))\n",
        "print(a)"
      ],
      "metadata": {
        "id": "sgoKcIkd-Y_u"
      },
      "execution_count": null,
      "outputs": []
    },
    {
      "cell_type": "code",
      "source": [
        "'''\n",
        "[6번] \n",
        "아래 a tensor의 앞에서부터 2번 째 원소와 가장 마지막 원소를 출력하세요 \n",
        "'''\n",
        "a = torch.tensor([2, 4, 5, 7, 5])\n",
        "\n",
        "# 아래에 풀이 적기 \n",
        "print(a[1].item(), a[-1].item())"
      ],
      "metadata": {
        "id": "9EfBcukG-ZQx"
      },
      "execution_count": null,
      "outputs": []
    },
    {
      "cell_type": "code",
      "source": [
        "'''\n",
        "[7번] \n",
        "아래 a tensor의 크기를 출력하고\n",
        "이를 3 x 2 x 2 크기를 갖는 b tensor로 변경해보세요 \n",
        "'''\n",
        "a = torch.randn((2, 6))\n",
        "\n",
        "# 아래에 풀이 적기 \n",
        "print('a tensor의 크기 :', a.shape)\n",
        "print('\\n')\n",
        "b = a.reshape(3, 2, 2)\n",
        "print(b)"
      ],
      "metadata": {
        "id": "l7vtv38t-Zc0"
      },
      "execution_count": null,
      "outputs": []
    },
    {
      "cell_type": "code",
      "source": [
        "'''\n",
        "[8번] \n",
        "아래 a tensor의 모든 원소의 값을 3배 해 보세요 \n",
        "'''\n",
        "a = torch.tensor([1, 2, 3, 4])\n",
        "\n",
        "# 아래에 풀이 적기 \n",
        "print(a*3)"
      ],
      "metadata": {
        "id": "rQWDhaYt-Zil"
      },
      "execution_count": null,
      "outputs": []
    },
    {
      "cell_type": "code",
      "source": [
        "'''\n",
        "[9번] \n",
        "아래 a tensor의 모든 원소의 값을 제곱 해 보세요 \n",
        "'''\n",
        "a = torch.tensor([1, 2, 3, 4])\n",
        "\n",
        "# 아래에 풀이 적기 \n",
        "print(a**2)"
      ],
      "metadata": {
        "id": "9Il2jg20-Znx"
      },
      "execution_count": null,
      "outputs": []
    },
    {
      "cell_type": "markdown",
      "source": [
        "# Tensor 연습 문제 중급"
      ],
      "metadata": {
        "id": "JfFngCvoTxhs"
      }
    },
    {
      "cell_type": "code",
      "source": [
        "'''\n",
        "[1번] \n",
        "아래 a tensor를 첫 번째 차원을 기준으로 합을 구하세요 \n",
        "'''\n",
        "a = torch.tensor([[[1, 2, 3], [4, 5, 6]], [[1, 2, 3], [4, 5, 6]]])\n",
        "\n",
        "# 아래에 풀이 적기 \n",
        "print(torch.sum(a, axis=0))"
      ],
      "metadata": {
        "id": "t-7YsgerT0e3"
      },
      "execution_count": null,
      "outputs": []
    },
    {
      "cell_type": "code",
      "source": [
        "'''\n",
        "[2번] \n",
        "아래 a tensor에서 5보다 작은 원소만 출력해보세요 \n",
        "'''\n",
        "a = torch.tensor([0, 1, 9, 2, 8, 3, 7, 4, 6, 5])\n",
        "\n",
        "# 아래에 풀이 적기 \n",
        "for i in a:\n",
        "  if i.item() < 5:\n",
        "    print(i.item())"
      ],
      "metadata": {
        "id": "zC8cZWeLBNia"
      },
      "execution_count": null,
      "outputs": []
    },
    {
      "cell_type": "code",
      "source": [
        "'''\n",
        "[3번] \n",
        "아래 a tensor에서 짝수번째 원소만 출력해보세요 \n",
        "'''\n",
        "a = torch.tensor([0, 1, 9, 2, 8, 3, 7, 4, 6, 5])\n",
        "\n",
        "# 아래에 풀이 적기 \n",
        "for i in range(1, len(a)):\n",
        "  if i % 2 == 0:\n",
        "    print(a[i].item())"
      ],
      "metadata": {
        "id": "ihGoJfQuBNcU"
      },
      "execution_count": null,
      "outputs": []
    },
    {
      "cell_type": "code",
      "source": [
        "'''\n",
        "[4번] \n",
        "아래 a tensor의 원소를 반대의 순서로 갖는 tensor b를 만드세요\n",
        "'''\n",
        "a = torch.tensor([0, 1, 9, 2, 8, 3, 7, 4, 6, 5])\n",
        "\n",
        "# 아래에 풀이 적기 \n",
        "b = torch.flip(a, dims=[0])\n",
        "print(b)"
      ],
      "metadata": {
        "id": "Va5EXyiCBNQP"
      },
      "execution_count": null,
      "outputs": []
    },
    {
      "cell_type": "code",
      "source": [
        "'''\n",
        "[5번] \n",
        "아래 a tensor를 모든 차원에대해 최소값과 최대값을 구하세요. \n",
        "'''\n",
        "a = torch.tensor([[[1, 2, 3], [4, 5, 6], [7, 8, 9]]])\n",
        "\n",
        "# 아래에 풀이 적기 \n",
        "_, ans = torch.max(a, 1)\n",
        "idx = ans[0][0].item()\n",
        "\n",
        "for i in range(3):\n",
        "  print(a[0][i][idx].item())"
      ],
      "metadata": {
        "id": "YimyvtGpCfns",
        "colab": {
          "base_uri": "https://localhost:8080/"
        },
        "outputId": "761332cf-3768-44b8-e99e-82d8bd61af1d"
      },
      "execution_count": 11,
      "outputs": [
        {
          "output_type": "stream",
          "name": "stdout",
          "text": [
            "3\n",
            "6\n",
            "9\n"
          ]
        }
      ]
    },
    {
      "cell_type": "code",
      "source": [
        "'''\n",
        "[6번] \n",
        "아래 a tensor의 짝수 행은 모두 0으로 홀수 행은 모두 1로 바꾸세요\n",
        "'''\n",
        "a = torch.tensor(\n",
        "    [\n",
        "        [0, 0, 0], # 1번째 행 \n",
        "        [1, 1, 1], # 2번째 행 \n",
        "        [2, 2, 2], # 3번째 행 \n",
        "        [3, 3, 3], # 4번째 행 \n",
        "        [4, 4, 4], # 5번째 행 \n",
        "        [5, 5, 5], # 6번째 행 \n",
        "        [6, 6, 6], # 7번째 행 \n",
        "        [7, 7, 7], # 8번째 행 \n",
        "        [8, 8, 8], # 9번째 행 \n",
        "        [9, 9, 9], # 10번째 행 \n",
        "    ]\n",
        ")\n",
        "\n",
        "# 아래에 풀이 적기 \n",
        "for i in range(len(a)):\n",
        "  if i%2==0:\n",
        "    a[i] = 0\n",
        "  else:\n",
        "    a[i] = 1\n",
        "print(a)"
      ],
      "metadata": {
        "id": "qzi74fFSCfgI",
        "colab": {
          "base_uri": "https://localhost:8080/"
        },
        "outputId": "bd2755fe-f500-449a-b6d1-6bd7d245d4d4"
      },
      "execution_count": 16,
      "outputs": [
        {
          "output_type": "stream",
          "name": "stdout",
          "text": [
            "tensor([[0, 0, 0],\n",
            "        [1, 1, 1],\n",
            "        [0, 0, 0],\n",
            "        [1, 1, 1],\n",
            "        [0, 0, 0],\n",
            "        [1, 1, 1],\n",
            "        [0, 0, 0],\n",
            "        [1, 1, 1],\n",
            "        [0, 0, 0],\n",
            "        [1, 1, 1]])\n"
          ]
        }
      ]
    },
    {
      "cell_type": "code",
      "source": [
        "'''\n",
        "[7번] \n",
        "아래 a tensor의 짝수 열은 모두 0으로 홀수 열은 모두 1로 바꾸세요\n",
        "'''\n",
        "a = torch.tensor(\n",
        "    [\n",
        "        [0,    0,    0], \n",
        "        [1,    1,    1], \n",
        "        [2,    2,    2], \n",
        "        [3,    3,    3], \n",
        "        [4,    4,    4], \n",
        "        [5,    5,    5], \n",
        "        [6,    6,    6], \n",
        "        [7,    7,    7], \n",
        "        [8,    8,    8], \n",
        "        [9,    9,    9], \n",
        "    ] # 1열  2열    3열\n",
        ")\n",
        "\n",
        "# 아래에 풀이 적기 \n",
        "for i in range(10):\n",
        "  for j in range(3):\n",
        "    if j % 2 == 0:\n",
        "      a[i][j] = 1\n",
        "    else:\n",
        "      a[i][j] = 0\n",
        "\n",
        "print(a)"
      ],
      "metadata": {
        "id": "wfrpJJmCCfRl",
        "colab": {
          "base_uri": "https://localhost:8080/"
        },
        "outputId": "b65282cb-b373-4ecb-f8cd-7ed31b1965a5"
      },
      "execution_count": 22,
      "outputs": [
        {
          "output_type": "stream",
          "name": "stdout",
          "text": [
            "tensor([[1, 0, 1],\n",
            "        [1, 0, 1],\n",
            "        [1, 0, 1],\n",
            "        [1, 0, 1],\n",
            "        [1, 0, 1],\n",
            "        [1, 0, 1],\n",
            "        [1, 0, 1],\n",
            "        [1, 0, 1],\n",
            "        [1, 0, 1],\n",
            "        [1, 0, 1]])\n"
          ]
        }
      ]
    },
    {
      "cell_type": "code",
      "source": [
        "'''\n",
        "[8번] \n",
        "아래 a tensor를 오름차순과 내림차순으로 정렬해보세요 \n",
        " \n",
        "'''\n",
        "a = torch.tensor([9, 5, 3, 8, 1, 6, 4, 7, 2, 0])\n",
        "\n",
        "# 아래에 풀이 적기\n",
        "print('내림차순: ', torch.sort(a, dim=0, descending=True)[0])\n",
        "print('오름차순: ', torch.sort(a, dim=0, descending = False)[0])"
      ],
      "metadata": {
        "id": "XZx_sQesE9iw",
        "colab": {
          "base_uri": "https://localhost:8080/"
        },
        "outputId": "5a5d3524-f07f-4837-c41a-db7905602764"
      },
      "execution_count": 41,
      "outputs": [
        {
          "output_type": "stream",
          "name": "stdout",
          "text": [
            "내림차순:  tensor([9, 8, 7, 6, 5, 4, 3, 2, 1, 0])\n",
            "오름차순:  tensor([0, 1, 2, 3, 4, 5, 6, 7, 8, 9])\n"
          ]
        }
      ]
    },
    {
      "cell_type": "markdown",
      "source": [
        "# Tensor 연습 문제 고급"
      ],
      "metadata": {
        "id": "HBA3NcW8TxTG"
      }
    },
    {
      "cell_type": "code",
      "source": [
        "'''\n",
        "[1번] \n",
        "아래 a tensor에서 0.3 보다 큰 값의 수를 출력해 보세요\n",
        "'''\n",
        "a = torch.randn((2,5,3))\n",
        "\n",
        "# 아래에 풀이 적기 \n",
        "print(torch.sum(a>0.3))"
      ],
      "metadata": {
        "id": "yo7QNRGqTzoJ",
        "colab": {
          "base_uri": "https://localhost:8080/"
        },
        "outputId": "506c7f14-94fb-4244-aa37-f86ca609498b"
      },
      "execution_count": 49,
      "outputs": [
        {
          "output_type": "stream",
          "name": "stdout",
          "text": [
            "tensor(12)\n"
          ]
        }
      ]
    },
    {
      "cell_type": "code",
      "source": [
        "'''\n",
        "[2번] \n",
        "아래 a tensor에서 음수는 모두 0으로 바꾸세요\n",
        "'''\n",
        "a = torch.tensor(\n",
        "    [\n",
        "        [-2, -1,  2,  5],\n",
        "        [ 1,  1, -1,  0],\n",
        "        [ 2, -1, -1, -1],\n",
        "        [-1, -1, -1,  3],\n",
        "        [ 0, -1,  1,  2],\n",
        "        [ 1, -1,  1, -1],\n",
        "    ]\n",
        ")\n",
        "\n",
        "# 아래에 풀이 적기\n",
        "a[a<0] = 0\n",
        "print(a)"
      ],
      "metadata": {
        "id": "oDLcWn5HDoDQ",
        "colab": {
          "base_uri": "https://localhost:8080/"
        },
        "outputId": "134891d5-36d1-4ee7-ef3f-15336cd3db71"
      },
      "execution_count": 56,
      "outputs": [
        {
          "output_type": "stream",
          "name": "stdout",
          "text": [
            "tensor([[0, 0, 2, 5],\n",
            "        [1, 1, 0, 0],\n",
            "        [2, 0, 0, 0],\n",
            "        [0, 0, 0, 3],\n",
            "        [0, 0, 1, 2],\n",
            "        [1, 0, 1, 0]])\n"
          ]
        }
      ]
    },
    {
      "cell_type": "code",
      "source": [
        "'''\n",
        "[3번] \n",
        "아래 a tensor를 sigmoid 함수를 적용시켜보세요 \n",
        "sigmoid 함수 : 1 / (1 + e^(-x))\n",
        "그리고 torch.sigmoid(a)의 결과와 비교해 보세요 \n",
        "'''\n",
        "a = torch.tensor([1, 3, 5])\n",
        "\n",
        "# 아래에 풀이 적기\n",
        "import numpy as np\n",
        "a_sig1 = 1 / (1+np.exp(-a))\n",
        "print(a_sig1)\n",
        "\n",
        "a_sig2 = torch.sigmoid(a)\n",
        "print(a_sig2)"
      ],
      "metadata": {
        "id": "kfQybkJTEOyW",
        "colab": {
          "base_uri": "https://localhost:8080/"
        },
        "outputId": "ce908ee7-198e-498c-8098-194b23d1783e"
      },
      "execution_count": 59,
      "outputs": [
        {
          "output_type": "stream",
          "name": "stdout",
          "text": [
            "tensor([0.7311, 0.9526, 0.9933], dtype=torch.float64)\n",
            "tensor([0.7311, 0.9526, 0.9933])\n"
          ]
        }
      ]
    },
    {
      "cell_type": "code",
      "source": [
        "'''\n",
        "[4번] \n",
        "아래 a tensor를 평균이 0 표준편차가 1이 되도록 정규화 코드를 작성하세요 \n",
        "'''\n",
        "a = torch.tensor([1, 2, 3, 4, 5], dtype=torch.float32)\n",
        "\n",
        "# 아래에 풀이 적기 \n",
        "import torch.nn.functional as f\n",
        "b = f.normalize(a, dim=0)\n",
        "print(b)"
      ],
      "metadata": {
        "id": "KBTNZVrwEqoq",
        "colab": {
          "base_uri": "https://localhost:8080/"
        },
        "outputId": "d3eb7de5-0e3c-4185-d9e0-cfe5e7538813"
      },
      "execution_count": 61,
      "outputs": [
        {
          "output_type": "stream",
          "name": "stdout",
          "text": [
            "tensor([0.1348, 0.2697, 0.4045, 0.5394, 0.6742])\n"
          ]
        }
      ]
    },
    {
      "cell_type": "code",
      "source": [
        "'''\n",
        "[5번] \n",
        "아래 a tensor의 모든 원소를 오름차순으로 정렬한 후 크기 기준 상위 10%의 원소만 출력해보세요\n",
        "'''\n",
        "a = torch.tensor([9, 5, 3, 8, 1, 6, 4, 7, 2, 0])\n",
        "\n",
        "# 아래에 풀이 적기\n",
        "ratio = len(a) * 0.1\n",
        "ratio = int(ratio)\n",
        "print(torch.sort(a, dim=0, descending=False)[0][-ratio].item())"
      ],
      "metadata": {
        "id": "ym_DiEHqE5N0",
        "colab": {
          "base_uri": "https://localhost:8080/"
        },
        "outputId": "99b6e804-e5d0-45fd-f2fc-5bdf70615231"
      },
      "execution_count": 80,
      "outputs": [
        {
          "output_type": "stream",
          "name": "stdout",
          "text": [
            "9\n"
          ]
        }
      ]
    },
    {
      "cell_type": "code",
      "source": [
        "'''\n",
        "[6번] \n",
        "아래 a tensor를 1차원으로 평탄화하고, 각 원소가 몇 번 등장하는지 세어 결과를 딕셔너리로 출력하는 코드를 작성하시오\n",
        "'''\n",
        "a = torch.tensor([[1, 2, 3], [4, 5, 6], [7, 8, 9]])\n",
        "\n",
        "# 아래에 풀이 적기 \n",
        "a = a.reshape(-1)\n",
        "val, cnt = torch.unique(a, return_counts=True)\n",
        "dict(zip(val.numpy(), cnt.numpy()))"
      ],
      "metadata": {
        "id": "SWHZPkU_FJXT",
        "colab": {
          "base_uri": "https://localhost:8080/"
        },
        "outputId": "b3ae199f-0aa3-4ba1-baa6-fc8f3969224a"
      },
      "execution_count": 93,
      "outputs": [
        {
          "output_type": "execute_result",
          "data": {
            "text/plain": [
              "{1: 1, 2: 1, 3: 1, 4: 1, 5: 1, 6: 1, 7: 1, 8: 1, 9: 1}"
            ]
          },
          "metadata": {},
          "execution_count": 93
        }
      ]
    },
    {
      "cell_type": "code",
      "source": [
        "'''\n",
        "[7번] \n",
        "인덱싱과 슬라이싱을 활용해 아래 a tensor에서 [[4, 5], [7, 8]]를 출력해 보세요\n",
        "'''\n",
        "a = torch.tensor([\n",
        "    [1, 2, 3],\n",
        "    [4, 5, 6],\n",
        "    [7, 8, 9]\n",
        "])\n",
        "\n",
        "# 아래에 풀이 적기\n",
        "[a[1][:2].tolist(), a[2][:2].tolist()]"
      ],
      "metadata": {
        "id": "qE4c-VvcFQ4O",
        "colab": {
          "base_uri": "https://localhost:8080/"
        },
        "outputId": "8b4ca9ba-c09a-4a2b-ead1-82c8d7d2d219"
      },
      "execution_count": 104,
      "outputs": [
        {
          "output_type": "execute_result",
          "data": {
            "text/plain": [
              "[[4, 5], [7, 8]]"
            ]
          },
          "metadata": {},
          "execution_count": 104
        }
      ]
    }
  ]
}